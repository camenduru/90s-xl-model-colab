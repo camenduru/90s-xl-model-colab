{
 "cells": [
  {
   "cell_type": "code",
   "execution_count": null,
   "metadata": {},
   "outputs": [],
   "source": [
    "!pip install replicate\n",
    "import os\n",
    "import replicate\n",
    "from google.colab import output\n",
    "from getpass import getpass\n",
    "REPLICATE_API_TOKEN = getpass()\n",
    "os.environ[\"REPLICATE_API_TOKEN\"] = REPLICATE_API_TOKEN"
   ]
  },
  {
   "cell_type": "code",
   "execution_count": null,
   "metadata": {},
   "outputs": [],
   "source": [
    "import replicate\n",
    "training = replicate.trainings.create(\n",
    "    version=\"stability-ai/sdxl:d830ba5dabf8090ec0db6c10fc862c6eb1c929e1a194a5411852d25fd954ac82\",\n",
    "    input={\n",
    "        \"input_images\": \"https://huggingface.co/camenduru/90s-xl/resolve/main/dataset_images.zip\",\n",
    "    },\n",
    "    destination=\"camenduru/sdxl-90s\"\n",
    ")"
   ]
  }
 ],
 "metadata": {
  "language_info": {
   "name": "python"
  },
  "orig_nbformat": 4
 },
 "nbformat": 4,
 "nbformat_minor": 2
}
