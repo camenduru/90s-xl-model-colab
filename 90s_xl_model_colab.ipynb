{
  "cells": [
    {
      "cell_type": "markdown",
      "metadata": {
        "id": "view-in-github"
      },
      "source": [
        "[![Open In Colab](https://colab.research.google.com/assets/colab-badge.svg)](https://colab.research.google.com/github/camenduru/90s-xl-model-colab/blob/main/90s_xl_model_colab.ipynb)"
      ]
    },
    {
      "cell_type": "code",
      "execution_count": null,
      "metadata": {
        "id": "VjYy0F2gZIPR"
      },
      "outputs": [],
      "source": [
        "!pip install diffusers==0.20.2\n",
        "from diffusers import StableDiffusionXLPipeline, EulerAncestralDiscreteScheduler\n",
        "import torch\n",
        "\n",
        "!wget https://huggingface.co/camenduru/90s-xl/resolve/main/90s_xl_lora.safetensors -O /content/90s_xl_lora.safetensors\n",
        "pipe = StableDiffusionXLPipeline.from_pretrained('stabilityai/stable-diffusion-xl-base-1.0', safety_checker=None, torch_dtype=torch.float16).to(\"cuda\")\n",
        "pipe.scheduler = EulerAncestralDiscreteScheduler.from_config(pipe.scheduler.config)\n",
        "pipe.enable_xformers_memory_efficient_attention()\n",
        "\n",
        "pipe.load_lora_weights('/content/90s_xl_lora.safetensors', lora_scale=0.6)\n",
        "# pipe.unload_lora_weights()"
      ]
    },
    {
      "cell_type": "code",
      "execution_count": null,
      "metadata": {},
      "outputs": [],
      "source": [
        "image = pipe(\"a house photo\", negative_prompt='blurry').images[0]\n",
        "image"
      ]
    }
  ],
  "metadata": {
    "accelerator": "GPU",
    "colab": {
      "gpuType": "T4",
      "provenance": []
    },
    "kernelspec": {
      "display_name": "Python 3",
      "name": "python3"
    },
    "language_info": {
      "name": "python"
    }
  },
  "nbformat": 4,
  "nbformat_minor": 0
}
